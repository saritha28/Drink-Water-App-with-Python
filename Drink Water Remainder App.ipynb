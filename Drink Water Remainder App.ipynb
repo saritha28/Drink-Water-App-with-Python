{
 "cells": [
  {
   "cell_type": "code",
   "execution_count": 1,
   "metadata": {},
   "outputs": [],
   "source": [
    "import time\n",
    "import datetime\n",
    "import pyttsx3"
   ]
  },
  {
   "cell_type": "code",
   "execution_count": null,
   "metadata": {},
   "outputs": [],
   "source": [
    "!pip install pyttsx3"
   ]
  },
  {
   "cell_type": "code",
   "execution_count": 2,
   "metadata": {},
   "outputs": [],
   "source": [
    "def speak_reminder():\n",
    "    engine = pyttsx3.init()\n",
    "    engine.setProperty('rate', 150)  # Speed of speech\n",
    "    engine.setProperty('voice', 'english+f3')  # Female voice\n",
    "    engine.say(\"Time to drink water! Remember to stay hydrated.\")\n",
    "    engine.runAndWait()"
   ]
  },
  {
   "cell_type": "code",
   "execution_count": 3,
   "metadata": {},
   "outputs": [],
   "source": [
    "def set_reminder():\n",
    "    try:\n",
    "        while True:\n",
    "            current_time = datetime.datetime.now().strftime(\"%H:%M\")\n",
    "            if current_time.endswith(\":09\"):\n",
    "                speak_reminder()\n",
    "                time.sleep(60)  # Wait for a minute to avoid repeated reminders\n",
    "            else:\n",
    "                time.sleep(1)  # Check the time every second\n",
    "    except KeyboardInterrupt:\n",
    "        print(\"\\nReminder app stopped.\")\n"
   ]
  },
  {
   "cell_type": "code",
   "execution_count": null,
   "metadata": {},
   "outputs": [
    {
     "name": "stdout",
     "output_type": "stream",
     "text": [
      "Reminder app started. Press Ctrl+C to stop.\n"
     ]
    }
   ],
   "source": [
    "if __name__ == \"__main__\":\n",
    "    print(\"Reminder app started. Press Ctrl+C to stop.\")\n",
    "    set_reminder()\n"
   ]
  },
  {
   "cell_type": "code",
   "execution_count": null,
   "metadata": {},
   "outputs": [],
   "source": []
  },
  {
   "cell_type": "code",
   "execution_count": null,
   "metadata": {},
   "outputs": [],
   "source": []
  }
 ],
 "metadata": {
  "kernelspec": {
   "display_name": "Python 3",
   "language": "python",
   "name": "python3"
  },
  "language_info": {
   "codemirror_mode": {
    "name": "ipython",
    "version": 3
   },
   "file_extension": ".py",
   "mimetype": "text/x-python",
   "name": "python",
   "nbconvert_exporter": "python",
   "pygments_lexer": "ipython3",
   "version": "3.7.4"
  }
 },
 "nbformat": 4,
 "nbformat_minor": 2
}
